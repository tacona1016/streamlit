{
 "cells": [
  {
   "cell_type": "code",
   "execution_count": 1,
   "id": "d391db7e",
   "metadata": {},
   "outputs": [
    {
     "data": {
      "text/plain": [
       "True"
      ]
     },
     "execution_count": 1,
     "metadata": {},
     "output_type": "execute_result"
    }
   ],
   "source": [
    "import streamlit as st\n",
    "import pandas as pd\n",
    "import psycopg2\n",
    "import yfinance as yf\n",
    "import os\n",
    "from dotenv import load_dotenv\n",
    "from sqlalchemy import create_engine, text\n",
    "import warnings\n",
    "\n",
    "# 모든 경고 무시\n",
    "warnings.filterwarnings(\"ignore\")\n",
    "load_dotenv()"
   ]
  },
  {
   "cell_type": "code",
   "execution_count": 5,
   "id": "539055e0",
   "metadata": {},
   "outputs": [],
   "source": [
    "host = os.environ[\"SUPABASE_HOST\"]\n",
    "port = os.environ.get(\"SUPABASE_PORT\", 5432)\n",
    "db   = os.environ[\"SUPABASE_DB\"]\n",
    "user = os.environ[\"SUPABASE_USER\"]\n",
    "pw   = os.environ[\"SUPABASE_PASSWORD\"]\n",
    "\n",
    "url = f\"postgresql+psycopg2://{user}:{pw}@{host}:{port}/{db}?sslmode=require\"\n",
    "engine = create_engine(url, connect_args={\"sslmode\":\"require\"}, pool_pre_ping=True)\n",
    "\n",
    "# 연결 테스트\n",
    "with engine.begin() as conn:\n",
    "    df_test = pd.read_sql(\"SELECT * FROM stock_addp\", engine)"
   ]
  },
  {
   "cell_type": "code",
   "execution_count": 6,
   "id": "9618e6d3",
   "metadata": {},
   "outputs": [],
   "source": [
    "tickers = list(df_test.alias.unique())"
   ]
  },
  {
   "cell_type": "code",
   "execution_count": 7,
   "id": "7322d6f7",
   "metadata": {},
   "outputs": [
    {
     "data": {
      "text/html": [
       "<div>\n",
       "<style scoped>\n",
       "    .dataframe tbody tr th:only-of-type {\n",
       "        vertical-align: middle;\n",
       "    }\n",
       "\n",
       "    .dataframe tbody tr th {\n",
       "        vertical-align: top;\n",
       "    }\n",
       "\n",
       "    .dataframe thead th {\n",
       "        text-align: right;\n",
       "    }\n",
       "</style>\n",
       "<table border=\"1\" class=\"dataframe\">\n",
       "  <thead>\n",
       "    <tr style=\"text-align: right;\">\n",
       "      <th></th>\n",
       "      <th>date</th>\n",
       "      <th>alias</th>\n",
       "      <th>value</th>\n",
       "    </tr>\n",
       "  </thead>\n",
       "  <tbody>\n",
       "    <tr>\n",
       "      <th>0</th>\n",
       "      <td>2015-08-18</td>\n",
       "      <td>Bitcoin</td>\n",
       "      <td>211.078995</td>\n",
       "    </tr>\n",
       "    <tr>\n",
       "      <th>1</th>\n",
       "      <td>2015-08-19</td>\n",
       "      <td>Bitcoin</td>\n",
       "      <td>226.684006</td>\n",
       "    </tr>\n",
       "    <tr>\n",
       "      <th>2</th>\n",
       "      <td>2015-08-20</td>\n",
       "      <td>Bitcoin</td>\n",
       "      <td>235.350006</td>\n",
       "    </tr>\n",
       "    <tr>\n",
       "      <th>3</th>\n",
       "      <td>2015-08-21</td>\n",
       "      <td>Bitcoin</td>\n",
       "      <td>232.569000</td>\n",
       "    </tr>\n",
       "    <tr>\n",
       "      <th>4</th>\n",
       "      <td>2015-08-24</td>\n",
       "      <td>Bitcoin</td>\n",
       "      <td>210.494995</td>\n",
       "    </tr>\n",
       "  </tbody>\n",
       "</table>\n",
       "</div>"
      ],
      "text/plain": [
       "        date    alias       value\n",
       "0 2015-08-18  Bitcoin  211.078995\n",
       "1 2015-08-19  Bitcoin  226.684006\n",
       "2 2015-08-20  Bitcoin  235.350006\n",
       "3 2015-08-21  Bitcoin  232.569000\n",
       "4 2015-08-24  Bitcoin  210.494995"
      ]
     },
     "execution_count": 7,
     "metadata": {},
     "output_type": "execute_result"
    }
   ],
   "source": [
    "df_test.head()"
   ]
  },
  {
   "cell_type": "code",
   "execution_count": null,
   "id": "972be12b",
   "metadata": {},
   "outputs": [
    {
     "name": "stderr",
     "output_type": "stream",
     "text": [
      "2025-08-13 21:55:04.728 \n",
      "  \u001b[33m\u001b[1mWarning:\u001b[0m to view this Streamlit app on a browser, run it with the following\n",
      "  command:\n",
      "\n",
      "    streamlit run c:\\Users\\tacon\\streamlit\\venv\\Lib\\site-packages\\ipykernel_launcher.py [ARGUMENTS]\n"
     ]
    }
   ],
   "source": [
    "st.set_page_config(\n",
    "    initial_sidebar_state=\"collapsed\",\n",
    "    layout = \"wide\",\n",
    "    page_icon = \"🍕\",\n",
    "    page_title = \"tacona1016의 개인 대시보드\"\n",
    ")\n",
    "\n",
    "with st.sidebar:\n",
    "    st.write(\"Side bar test\")\n",
    "    st.write(\"tacona1016의 개인 차트\")"
   ]
  },
  {
   "cell_type": "code",
   "execution_count": 13,
   "id": "bc09ede1",
   "metadata": {},
   "outputs": [],
   "source": [
    "start = pd.to_datetime('2022-01-01')\n",
    "end = pd.to_datetime('2025-08-01')\n",
    "ticker = 'Bitcoin'\n",
    "\n",
    "df = df_test[(df_test.alias==ticker)&(df_test.date>=start)&(df_test.date<=end)]"
   ]
  },
  {
   "cell_type": "code",
   "execution_count": 15,
   "id": "22f593fe",
   "metadata": {},
   "outputs": [
    {
     "data": {
      "text/html": [
       "<div>\n",
       "<style scoped>\n",
       "    .dataframe tbody tr th:only-of-type {\n",
       "        vertical-align: middle;\n",
       "    }\n",
       "\n",
       "    .dataframe tbody tr th {\n",
       "        vertical-align: top;\n",
       "    }\n",
       "\n",
       "    .dataframe thead th {\n",
       "        text-align: right;\n",
       "    }\n",
       "</style>\n",
       "<table border=\"1\" class=\"dataframe\">\n",
       "  <thead>\n",
       "    <tr style=\"text-align: right;\">\n",
       "      <th></th>\n",
       "      <th>date</th>\n",
       "      <th>alias</th>\n",
       "      <th>value</th>\n",
       "    </tr>\n",
       "  </thead>\n",
       "  <tbody>\n",
       "    <tr>\n",
       "      <th>1606</th>\n",
       "      <td>2022-01-03</td>\n",
       "      <td>Bitcoin</td>\n",
       "      <td>46458.117188</td>\n",
       "    </tr>\n",
       "    <tr>\n",
       "      <th>1607</th>\n",
       "      <td>2022-01-04</td>\n",
       "      <td>Bitcoin</td>\n",
       "      <td>45897.574219</td>\n",
       "    </tr>\n",
       "    <tr>\n",
       "      <th>1608</th>\n",
       "      <td>2022-01-05</td>\n",
       "      <td>Bitcoin</td>\n",
       "      <td>43569.003906</td>\n",
       "    </tr>\n",
       "    <tr>\n",
       "      <th>1609</th>\n",
       "      <td>2022-01-06</td>\n",
       "      <td>Bitcoin</td>\n",
       "      <td>43160.929688</td>\n",
       "    </tr>\n",
       "    <tr>\n",
       "      <th>1610</th>\n",
       "      <td>2022-01-07</td>\n",
       "      <td>Bitcoin</td>\n",
       "      <td>41557.902344</td>\n",
       "    </tr>\n",
       "  </tbody>\n",
       "</table>\n",
       "</div>"
      ],
      "text/plain": [
       "           date    alias         value\n",
       "1606 2022-01-03  Bitcoin  46458.117188\n",
       "1607 2022-01-04  Bitcoin  45897.574219\n",
       "1608 2022-01-05  Bitcoin  43569.003906\n",
       "1609 2022-01-06  Bitcoin  43160.929688\n",
       "1610 2022-01-07  Bitcoin  41557.902344"
      ]
     },
     "execution_count": 15,
     "metadata": {},
     "output_type": "execute_result"
    }
   ],
   "source": [
    "df.head()"
   ]
  }
 ],
 "metadata": {
  "kernelspec": {
   "display_name": "venv",
   "language": "python",
   "name": "python3"
  },
  "language_info": {
   "codemirror_mode": {
    "name": "ipython",
    "version": 3
   },
   "file_extension": ".py",
   "mimetype": "text/x-python",
   "name": "python",
   "nbconvert_exporter": "python",
   "pygments_lexer": "ipython3",
   "version": "3.12.6"
  }
 },
 "nbformat": 4,
 "nbformat_minor": 5
}
