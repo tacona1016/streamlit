{
 "cells": [
  {
   "cell_type": "code",
   "execution_count": 9,
   "id": "d391db7e",
   "metadata": {},
   "outputs": [
    {
     "data": {
      "text/plain": [
       "True"
      ]
     },
     "execution_count": 9,
     "metadata": {},
     "output_type": "execute_result"
    }
   ],
   "source": [
    "import streamlit as st\n",
    "import pandas as pd\n",
    "import psycopg2\n",
    "import yfinance as yf\n",
    "import os\n",
    "from dotenv import load_dotenv\n",
    "from sqlalchemy import create_engine, text\n",
    "import warnings\n",
    "\n",
    "# 모든 경고 무시\n",
    "warnings.filterwarnings(\"ignore\")\n",
    "load_dotenv()"
   ]
  },
  {
   "cell_type": "code",
   "execution_count": 7,
   "id": "539055e0",
   "metadata": {},
   "outputs": [],
   "source": [
    "host = os.environ[\"SUPABASE_HOST\"]\n",
    "port = os.environ.get(\"SUPABASE_PORT\", 5432)\n",
    "db   = os.environ[\"SUPABASE_DB\"]\n",
    "user = os.environ[\"SUPABASE_USER\"]\n",
    "pw   = os.environ[\"SUPABASE_PASSWORD\"]\n",
    "\n",
    "url = f\"postgresql+psycopg2://{user}:{pw}@{host}:{port}/{db}?sslmode=require\"\n",
    "engine = create_engine(url, connect_args={\"sslmode\":\"require\"}, pool_pre_ping=True)\n",
    "\n",
    "# 연결 테스트\n",
    "with engine.begin() as conn:\n",
    "    df_test = pd.read_sql(\"SELECT * FROM stock_data\", engine)"
   ]
  },
  {
   "cell_type": "code",
   "execution_count": null,
   "id": "9618e6d3",
   "metadata": {},
   "outputs": [
    {
     "data": {
      "text/plain": [
       "['BTC-USD',\n",
       " 'GC=F',\n",
       " 'KRWUSD=X',\n",
       " 'NQ=F',\n",
       " 'SI=F',\n",
       " 'TLT',\n",
       " '^GSPC',\n",
       " '^KS11',\n",
       " '^TNX',\n",
       " '^TYX',\n",
       " '^VIX']"
      ]
     },
     "execution_count": 13,
     "metadata": {},
     "output_type": "execute_result"
    }
   ],
   "source": [
    "tickers = list(df_test.ticker.unique())"
   ]
  },
  {
   "cell_type": "code",
   "execution_count": 14,
   "id": "7322d6f7",
   "metadata": {},
   "outputs": [
    {
     "data": {
      "text/html": [
       "<div>\n",
       "<style scoped>\n",
       "    .dataframe tbody tr th:only-of-type {\n",
       "        vertical-align: middle;\n",
       "    }\n",
       "\n",
       "    .dataframe tbody tr th {\n",
       "        vertical-align: top;\n",
       "    }\n",
       "\n",
       "    .dataframe thead th {\n",
       "        text-align: right;\n",
       "    }\n",
       "</style>\n",
       "<table border=\"1\" class=\"dataframe\">\n",
       "  <thead>\n",
       "    <tr style=\"text-align: right;\">\n",
       "      <th></th>\n",
       "      <th>date</th>\n",
       "      <th>ticker</th>\n",
       "      <th>open</th>\n",
       "      <th>high</th>\n",
       "      <th>low</th>\n",
       "      <th>close</th>\n",
       "      <th>volume</th>\n",
       "    </tr>\n",
       "  </thead>\n",
       "  <tbody>\n",
       "    <tr>\n",
       "      <th>0</th>\n",
       "      <td>2015-08-13</td>\n",
       "      <td>BTC-USD</td>\n",
       "      <td>266.183014</td>\n",
       "      <td>266.231995</td>\n",
       "      <td>262.841003</td>\n",
       "      <td>264.079987</td>\n",
       "      <td>27685500.0</td>\n",
       "    </tr>\n",
       "    <tr>\n",
       "      <th>1</th>\n",
       "      <td>2015-08-13</td>\n",
       "      <td>GC=F</td>\n",
       "      <td>1124.300049</td>\n",
       "      <td>1124.300049</td>\n",
       "      <td>1113.000000</td>\n",
       "      <td>1115.699951</td>\n",
       "      <td>441.0</td>\n",
       "    </tr>\n",
       "    <tr>\n",
       "      <th>2</th>\n",
       "      <td>2015-08-13</td>\n",
       "      <td>KRWUSD=X</td>\n",
       "      <td>0.000850</td>\n",
       "      <td>0.000855</td>\n",
       "      <td>0.000846</td>\n",
       "      <td>0.000853</td>\n",
       "      <td>0.0</td>\n",
       "    </tr>\n",
       "    <tr>\n",
       "      <th>3</th>\n",
       "      <td>2015-08-13</td>\n",
       "      <td>NQ=F</td>\n",
       "      <td>4529.750000</td>\n",
       "      <td>4557.000000</td>\n",
       "      <td>4508.750000</td>\n",
       "      <td>4517.250000</td>\n",
       "      <td>234832.0</td>\n",
       "    </tr>\n",
       "    <tr>\n",
       "      <th>4</th>\n",
       "      <td>2015-08-13</td>\n",
       "      <td>SI=F</td>\n",
       "      <td>15.396000</td>\n",
       "      <td>15.396000</td>\n",
       "      <td>15.396000</td>\n",
       "      <td>15.396000</td>\n",
       "      <td>0.0</td>\n",
       "    </tr>\n",
       "  </tbody>\n",
       "</table>\n",
       "</div>"
      ],
      "text/plain": [
       "        date    ticker         open         high          low        close  \\\n",
       "0 2015-08-13   BTC-USD   266.183014   266.231995   262.841003   264.079987   \n",
       "1 2015-08-13      GC=F  1124.300049  1124.300049  1113.000000  1115.699951   \n",
       "2 2015-08-13  KRWUSD=X     0.000850     0.000855     0.000846     0.000853   \n",
       "3 2015-08-13      NQ=F  4529.750000  4557.000000  4508.750000  4517.250000   \n",
       "4 2015-08-13      SI=F    15.396000    15.396000    15.396000    15.396000   \n",
       "\n",
       "       volume  \n",
       "0  27685500.0  \n",
       "1       441.0  \n",
       "2         0.0  \n",
       "3    234832.0  \n",
       "4         0.0  "
      ]
     },
     "execution_count": 14,
     "metadata": {},
     "output_type": "execute_result"
    }
   ],
   "source": [
    "df_test.head()"
   ]
  },
  {
   "cell_type": "code",
   "execution_count": 10,
   "id": "972be12b",
   "metadata": {},
   "outputs": [
    {
     "name": "stderr",
     "output_type": "stream",
     "text": [
      "2025-08-13 21:55:04.728 \n",
      "  \u001b[33m\u001b[1mWarning:\u001b[0m to view this Streamlit app on a browser, run it with the following\n",
      "  command:\n",
      "\n",
      "    streamlit run c:\\Users\\tacon\\streamlit\\venv\\Lib\\site-packages\\ipykernel_launcher.py [ARGUMENTS]\n"
     ]
    }
   ],
   "source": [
    "st.set_page_config(\n",
    "    initial_sidebar_state=\"collapsed\",\n",
    "    layout = \"wide\",\n",
    "    page_icon = \"🍕\",\n",
    "    page_title = \"tacona1016의 개인 대시보드\"\n",
    ")\n",
    "\n",
    "with st.sidebar:\n",
    "    st.write(\"Side bar test\")\n",
    "    st.write(\"tacona1016의 개인 차트\")"
   ]
  }
 ],
 "metadata": {
  "kernelspec": {
   "display_name": "venv",
   "language": "python",
   "name": "python3"
  },
  "language_info": {
   "codemirror_mode": {
    "name": "ipython",
    "version": 3
   },
   "file_extension": ".py",
   "mimetype": "text/x-python",
   "name": "python",
   "nbconvert_exporter": "python",
   "pygments_lexer": "ipython3",
   "version": "3.12.6"
  }
 },
 "nbformat": 4,
 "nbformat_minor": 5
}
